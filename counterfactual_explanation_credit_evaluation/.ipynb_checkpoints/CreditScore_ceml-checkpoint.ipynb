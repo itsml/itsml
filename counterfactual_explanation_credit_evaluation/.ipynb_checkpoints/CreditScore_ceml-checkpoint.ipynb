{
 "cells": [
  {
   "cell_type": "markdown",
   "metadata": {},
   "source": [
    "# Use of counterfactual explanations for credit evaluations\n",
    "\n",
    "Scenario: To increase productivity, a bank adopts a ML-Software to evaluate the credibility of new loan applications.\n",
    "\n",
    "The bank opts for considering the following data of an applicant for a credit decision:\n",
    "- Credit term (months)\n",
    "- Credit volume (€)\n",
    "- Installment rate (% of disposable income)\n",
    "- Present residence since (years)\n",
    "- Age of applicant\n",
    "- Number of existing credits applicant already holds at this bank\n",
    "\n",
    "The adopted ML-system is trained on this information taken from previous credit approval processes:\n"
   ]
  },
  {
   "cell_type": "code",
   "execution_count": 25,
   "metadata": {},
   "outputs": [
    {
     "data": {
      "text/plain": [
       "DecisionTreeClassifier(class_weight=None, criterion='gini', max_depth=5,\n",
       "                       max_features=None, max_leaf_nodes=None,\n",
       "                       min_impurity_decrease=0.0, min_impurity_split=None,\n",
       "                       min_samples_leaf=1, min_samples_split=2,\n",
       "                       min_weight_fraction_leaf=0.0, presort=False,\n",
       "                       random_state=None, splitter='best')"
      ]
     },
     "execution_count": 25,
     "metadata": {},
     "output_type": "execute_result"
    }
   ],
   "source": [
    " #!/usr/bin/env python3\n",
    "# -*- coding: utf-8 -*-\n",
    "import numpy as np\n",
    "#import pandas as pd\n",
    "from sklearn.utils import shuffle\n",
    "from sklearn.model_selection import train_test_split\n",
    "from sklearn.metrics import roc_auc_score\n",
    "from sklearn.tree import DecisionTreeClassifier\n",
    "\n",
    "from ceml.sklearn import generate_counterfactual\n",
    "\n",
    "data_path = \"data/\"\n",
    "\n",
    "# Load data\n",
    "data = np.load(data_path + \"data.npz\")\n",
    "\n",
    "# extract details:\n",
    "## X = case details \n",
    "## y = respective credit decisions\n",
    "## features_desc = feature descriptions\n",
    "X, y, features_desc = data[\"X\"], data[\"y\"], data[\"features_desc\"]\n",
    "\n",
    "# only select relevant data from all cases \n",
    "# (i.e., Credit term and volume, installment rate, etc.)\n",
    "feat=[0, 1, 2, 3, 4, 5]\n",
    "totnumfeat = len(feat)\n",
    "X = X[:, feat]\n",
    "\n",
    "# Create train-test data set\n",
    "X, y = shuffle(X, y, random_state=4242)\n",
    "X_train, X_test, y_train, y_test = train_test_split(X, y, test_size=0.33, random_state=4242)\n",
    "\n",
    "# Fit a classifier\n",
    "model = DecisionTreeClassifier(max_depth=5)\n",
    "model.fit(X_train, y_train)"
   ]
  },
  {
   "cell_type": "markdown",
   "metadata": {},
   "source": [
    "For future credit approval processes, this model will be consulted to decide about success of an application.\n",
    "\n",
    "### A new application: Sören Sorglos\n",
    "\n",
    "The bank's customer Sören Sorglos would like to take out a loan to buy a new car.\n",
    "\n",
    "He would like to apply for a credit of \n",
    "- 8858 €\n",
    "- with a running time of 48 months\n",
    "- with an installment rate of 2% of Mr. Sorglos' monthly disposable income\n",
    "\n",
    "At his bank appointment, the bank teller checks his request as well as his personal details relevant for the loan decision:"
   ]
  },
  {
   "cell_type": "code",
   "execution_count": 26,
   "metadata": {},
   "outputs": [
    {
     "name": "stdout",
     "output_type": "stream",
     "text": [
      "Customer data:\n",
      " Duration_in_month: 48\n",
      " Credit_amount: 8858\n",
      " Installment_rate_in_percentage_of_disposable_income: 2\n",
      " Present_residence_since: 1\n",
      " Age_in_years: 35\n",
      " Number_of_existing_credits_at_this_bank: 2\n"
     ]
    }
   ],
   "source": [
    "# extract case Sören Sorglos\n",
    "soeren_sorglos = X_test[29]\n",
    "\n",
    "# print respective data\n",
    "print(\"Customer data:\")\n",
    "f = list(features_desc[feat])\n",
    "for j in range(len(f)):\n",
    "    print(\" {0}: {1}\".format(f[j], soeren_sorglos[j]))"
   ]
  },
  {
   "cell_type": "markdown",
   "metadata": {},
   "source": [
    "As we can see above, Mr. Sorglos is\n",
    "- 35 years old\n",
    "- lives in his current residence for 1 year\n",
    "- already has 2 existing credits at this bank\n",
    "\n",
    "The bank teller uses the bank's internal ML-system to evaluate his credibility:"
   ]
  },
  {
   "cell_type": "code",
   "execution_count": 27,
   "metadata": {},
   "outputs": [
    {
     "name": "stdout",
     "output_type": "stream",
     "text": [
      "Loan application rejected: True\n"
     ]
    }
   ],
   "source": [
    "# use model to predict success of application:\n",
    "print(\"Loan application rejected: {0}\".format(bool(model.predict([soeren_sorglos]))))"
   ]
  },
  {
   "cell_type": "markdown",
   "metadata": {},
   "source": [
    "The bank follows the ML-system's suggestion and declines the credit request.\n",
    "\n",
    "Mr. Sorglos enquires about the reason why his credit application was rejected. Using counterfactual evaluation, the bank teller assesses how Mr. Sorglos's data needs to change in order for him to get the credit:"
   ]
  },
  {
   "cell_type": "code",
   "execution_count": 28,
   "metadata": {},
   "outputs": [
    {
     "name": "stdout",
     "output_type": "stream",
     "text": [
      "\n",
      "Adapted customer data:\n",
      " Number_of_existing_credits_at_this_bank: 1\n",
      "\n",
      "Renewed evaluation based on adapted data:\n",
      " Loan application rejected: False\n"
     ]
    }
   ],
   "source": [
    "# target state is 0 (i.e., application is not rejected)\n",
    "y_target = 0\n",
    "\n",
    "# generate counterfactual explanation\n",
    "soeren_sorglos_cf, y_cf, delta = generate_counterfactual(model, soeren_sorglos, y_target, return_as_dict=False)\n",
    "\n",
    "# print result of counterfactual analysis\n",
    "print(\"\\nAdapted customer data:\")\n",
    "cf_change=delta.nonzero()\n",
    "for j in cf_change[0]:\n",
    "    print(\" {0}: {1}\".format(f[j], soeren_sorglos_cf[j]))\n",
    "\n",
    "print(\"\\nRenewed evaluation based on adapted data:\")\n",
    "print(\" Loan application rejected: {0}\".format(bool(model.predict([soeren_sorglos_cf]))))"
   ]
  },
  {
   "cell_type": "markdown",
   "metadata": {},
   "source": [
    "Thus, the bank may inform Mr. Sorglos that he would have gotten a loan if he had only 1 instead of 2 running credits at the current bank."
   ]
  },
  {
   "cell_type": "markdown",
   "metadata": {},
   "source": [
    "### References\n",
    "\n",
    "Data used in this example: Statlog (German Credit Data) Data Set \n",
    "https://archive.ics.uci.edu/ml/datasets/Statlog+(German+Credit+Data)\n",
    "\n",
    "Generation of counterfactual explanations courtesy of ceml toolbox developed and maintained by André Artelt: https://github.com/andreArtelt/ceml"
   ]
  },
  {
   "cell_type": "code",
   "execution_count": null,
   "metadata": {},
   "outputs": [],
   "source": []
  }
 ],
 "metadata": {
  "kernelspec": {
   "display_name": "python3",
   "language": "python",
   "name": "its-ml"
  },
  "language_info": {
   "codemirror_mode": {
    "name": "ipython",
    "version": 3
   },
   "file_extension": ".py",
   "mimetype": "text/x-python",
   "name": "python",
   "nbconvert_exporter": "python",
   "pygments_lexer": "ipython3",
   "version": "3.7.6"
  }
 },
 "nbformat": 4,
 "nbformat_minor": 2
}
