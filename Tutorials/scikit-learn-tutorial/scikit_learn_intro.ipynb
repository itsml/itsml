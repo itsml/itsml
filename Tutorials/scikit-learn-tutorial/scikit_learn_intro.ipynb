{
 "cells": [
  {
   "cell_type": "markdown",
   "metadata": {},
   "source": [
    "# Kurzüberblick über Scikit-learn\n",
    "[Scikit-learn](https://scikit-learn.org/) ist eine Python-Softwarebiliothek, die eine Vielzahl an klassischen Machine Learning-Algorithmen (kein Deep Learning) über eine einheitliche und simple API bereitstellt. Scikit-learn ist eine quelloffene Bibliothek, die unter der BSD-Lizenz (kommerziell nutzbar) lizensiert ist. Scikit-learn macht Gebrauch von [NumPy](https://numpy.org/), [SciPy](https://www.scipy.org/) und optional [Matplotlib](https://matplotlib.org/). Scikit-learn selbst umfasst Algorithmen zur Klassifikation, Regression und Clustering. Außerdem gibt es eine Vielzahl an API-konformen Bibliotheken, die Scikit-learn z.B. um Deep Learning-Algorithmen erweitern."
   ]
  },
  {
   "cell_type": "markdown",
   "metadata": {},
   "source": [
    "## Die Module\n",
    "In diesem Abschnitt sind einige wichtige Module aufgelistet.\n",
    "\n",
    "- **Vorverarbeitung und Normalisierung** `sklearn.preprocessing`:\n",
    "    - `preprocessing.StandardScaler`: Merkmalsstandardisierung auf einen Mittelwert von 0 und eine Varianz von 1.\n",
    "    - ...\n",
    "\n",
    "- **Merkmalsauswahl** `sklearn.feature_selection`:\n",
    "    - `feature_selection.SelectKBest`: K Merkmale mit dem höchsten Score auswählen.\n",
    "    - ...\n",
    "\n",
    "- **Clustering** `sklearn.cluster`:\n",
    "    - `cluster.KMeans`: K-Means clustering.\n",
    "    - ...\n",
    "\n",
    "- **Nächste Nachbarn** `sklearn.neighbors`:\n",
    "    - `neighbors.KNeighborsRegressor`: KNN Regressor.\n",
    "    - `neighbors.KNeighborsClassifier`: KNN Klassifikator.\n",
    "    - ...\n",
    "\n",
    "- **Multi-layer Perceptron** `sklearn.neural_network`:\n",
    "    - `neural_network.MLPRegressor`: MLP Regressor.\n",
    "    - `neural_network.MLPClassifier`: MLP Klassifikator.\n",
    "    - ...\n",
    "\n",
    "- **Support Vector Machine** `sklearn.svm`:\n",
    "    - `svm.LinearSVC`: Lineare Support Vector Regression.\n",
    "    - `svm.LinearSVC`: Lineare Support Vector Klassifikation.\n",
    "    - ...\n",
    "\n",
    "- **Entscheidungsbäume** `sklearn.tree`:\n",
    "    - `tree.DecisionTreeRegressor`: Entscheidungsbaum-Regressor.\n",
    "    - `tree.DecisionTreeClassifier`: Entscheidungsbaum-Klassifikator.\n",
    "    - ...\n"
   ]
  },
  {
   "cell_type": "markdown",
   "metadata": {},
   "source": [
    "## Das Datenformat\n",
    "Die meisten Algorithmen von Scikit-learn erwarten die Daten in folgendem Format:\n",
    "\n",
    "<img src=\"samples-features.png\" alt=\"Scikit-learn Datenformat\" width=\"400\"/>\n",
    "\n",
    "Bildquelle (modifiziert): [Python Data Science Handbook](https://jakevdp.github.io/PythonDataScienceHandbook/) von Jake VanderPlas\n",
    "\n",
    "Jede Zeile bildet eine Instanz ab und jede Spalte ein Merkmal.\n",
    "\n",
    "Dabei können die Matrix und der Vektor ein array-ähnliches Objekt sein. Dies sind z.B.:\n",
    "- ein Numpy array\n",
    "- eine Liste von Zahlen\n",
    "- eine Liste von k langen Listen für ein fixes k\n",
    "- ein `pandas.DataFrame` mit ausschließlich numerischen Spalten\n",
    "- eine numerische `pandas.Series`\n",
    "\n",
    "Standardmäßig **nicht** akzeptiert werden:\n",
    "- eine dünnbesetzte Matrix (sparse matrix)\n",
    "- ein (Python-) Iterator\n",
    "- ein (Python-) Generaotor"
   ]
  },
  {
   "cell_type": "markdown",
   "metadata": {},
   "source": [
    "# Das Schätz-Objekt\n",
    "(Abschnitt basierend auf dem [Scikit-learn Tutorial](https://github.com/jakevdp/sklearn_tutorial) von Jake VanderPlas.)\n",
    "\n",
    "Das Ziel von Scikit-learn ist es ein einheitliches Interface für alle Algorithmen (Schätz-Objekt, estimator) zu haben. Die [API von Scikit-learn](https://scikit-learn.org/stable/modules/classes.html) ist gut dokumentiert und es gibt zahlreiche Tutorials auf der Homepage. Hier wird ein kurzer Überblick über wichtige Methoden von Schätz-Objekten (estimators) gegeben:\n",
    "\n",
    "**Jedes Schätz-Objekt** beistzt:\n",
    "- `model.fit(X, y)`: Führe das Training des Algorithmus aus. Für überwachtes Lernen werden zwei Argumente benötigt: Die Trainigsdaten `X` und die Label `y`. Für unüberwachtes Lernen wird ein Argument benötigt: Die Trainingsdaten `X`. Hier wird `y` ignoriert und ist optional.\n",
    "- `model.predict(X_new)`: Sage die Label/Werte von den Instanzen `X_new` vorher. Diese Methode gibt die entsprechenden Label/Werte als array-ähnliches Objekt zurück. Das Schätz-Objekt sollte vorher trainiert werden.\n",
    "\n",
    "**Einige Schätzobjekte** besitzen:\n",
    "- `model.predict_proba(X_new)`: Gibt die Wahrscheinlichkeit für jede Instanz zurück einer Kategorie anzugehören. `model.predict(X_new)` gibt die Kategorie mit der höchsten Wahrscheinlichkeit zurück.\n",
    "- `model.decision_function(X_new)`: Einige Schätz-Objekte berechnen einen \"rohen\" Konfidenzwert (bei SVMs z.B. der Abstand zur Hyperebene), auf dem die Einordnung der Instanzen basiert. Dieser Wert kann mit dieser Funktion zurückgegeben werden und bietet sich vor allem für Oberflächenplots oder individuelle Schwellwertsetzung an.\n",
    "\n",
    "Schätz-Objekte für **überwachtes Lernen** besitzen:\n",
    "- `model.score(X_new, y_true)`: Gibt die Durchschnittsgenauigkeit (accuracy) der Daten im Bezug auf die richtigen Labels `y_true` an.\n",
    "\n",
    "Schätz-Objekte für **unüberwachtes Lernen** beistzen:\n",
    "- `model.transform(X_new)`: Wandle die Instanzen in die neue Basis für den Algorithmus (bei k-Means Clustering z.B. die Distanzen zu den Clustermittelpunkten) um und gebe die neue Repräsentation zurück.\n",
    "- `model.fit_transform(X_new)`: Effizientere Implementierung von `model.fit(X).transform(X)`."
   ]
  },
  {
   "cell_type": "markdown",
   "metadata": {},
   "source": [
    "## Die Pipeline\n",
    "(Abschnitt basierend auf dem [offiziellen Tutorial](https://scikit-learn.org/stable/modules/compose.html#pipeline).)\n",
    "\n",
    "Scikit-learn unterstütz das Bauen einer Pipeline in der verschiedene Verarbeitungsschritte (z.B. Merkmalsauswahl -> Normalisierung -> Klassifikation) zu einem gesamten Schätz-Objekt zusammengefasst werden können. Alle Schätz-Objekte in einer Pipeline außer dem letzten müssen eine `transform` Methode beitzen (also Transformer sein).\n",
    "\n",
    "Eine Pipeline wird aus einer Liste von `(Bezeichnung, Objekt)` Paaren aufgebaut. Dabei ist `Bezeichnung` eine beliebige Zeichenkette zur Identifiezierung des Verarbeitungsschritts und `Objekt` ein Schätz-Objekt:"
   ]
  },
  {
   "cell_type": "code",
   "execution_count": 7,
   "metadata": {},
   "outputs": [
    {
     "data": {
      "text/html": [
       "<style>div.sk-top-container {color: black;background-color: white;}div.sk-toggleable {background-color: white;}label.sk-toggleable__label {cursor: pointer;display: block;width: 100%;margin-bottom: 0;padding: 0.2em 0.3em;box-sizing: border-box;text-align: center;}div.sk-toggleable__content {max-height: 0;max-width: 0;overflow: hidden;text-align: left;background-color: #f0f8ff;}div.sk-toggleable__content pre {margin: 0.2em;color: black;border-radius: 0.25em;background-color: #f0f8ff;}input.sk-toggleable__control:checked~div.sk-toggleable__content {max-height: 200px;max-width: 100%;overflow: auto;}div.sk-estimator input.sk-toggleable__control:checked~label.sk-toggleable__label {background-color: #d4ebff;}div.sk-label input.sk-toggleable__control:checked~label.sk-toggleable__label {background-color: #d4ebff;}input.sk-hidden--visually {border: 0;clip: rect(1px 1px 1px 1px);clip: rect(1px, 1px, 1px, 1px);height: 1px;margin: -1px;overflow: hidden;padding: 0;position: absolute;width: 1px;}div.sk-estimator {font-family: monospace;background-color: #f0f8ff;margin: 0.25em 0.25em;border: 1px dotted black;border-radius: 0.25em;box-sizing: border-box;}div.sk-estimator:hover {background-color: #d4ebff;}div.sk-parallel-item::after {content: \"\";width: 100%;border-bottom: 1px solid gray;flex-grow: 1;}div.sk-label:hover label.sk-toggleable__label {background-color: #d4ebff;}div.sk-serial::before {content: \"\";position: absolute;border-left: 1px solid gray;box-sizing: border-box;top: 2em;bottom: 0;left: 50%;}div.sk-serial {display: flex;flex-direction: column;align-items: center;background-color: white;}div.sk-item {z-index: 1;}div.sk-parallel {display: flex;align-items: stretch;justify-content: center;background-color: white;}div.sk-parallel-item {display: flex;flex-direction: column;position: relative;background-color: white;}div.sk-parallel-item:first-child::after {align-self: flex-end;width: 50%;}div.sk-parallel-item:last-child::after {align-self: flex-start;width: 50%;}div.sk-parallel-item:only-child::after {width: 0;}div.sk-dashed-wrapped {border: 1px dashed gray;margin: 0.2em;box-sizing: border-box;padding-bottom: 0.1em;background-color: white;position: relative;}div.sk-label label {font-family: monospace;font-weight: bold;background-color: white;display: inline-block;line-height: 1.2em;}div.sk-label-container {position: relative;z-index: 2;text-align: center;}div.sk-container {display: inline-block;position: relative;}</style><div class=\"sk-top-container\"><div class=\"sk-container\"><div class=\"sk-item sk-dashed-wrapped\"><div class=\"sk-label-container\"><div class=\"sk-label sk-toggleable\"><input class=\"sk-toggleable__control sk-hidden--visually\" id=\"78a3a8ce-6413-4db1-b031-5f0ba209778f\" type=\"checkbox\" ><label class=\"sk-toggleable__label\" for=\"78a3a8ce-6413-4db1-b031-5f0ba209778f\">Pipeline</label><div class=\"sk-toggleable__content\"><pre>Pipeline(steps=[('reduce_dim', PCA()), ('clf', SVC())])</pre></div></div></div><div class=\"sk-serial\"><div class=\"sk-item\"><div class=\"sk-estimator sk-toggleable\"><input class=\"sk-toggleable__control sk-hidden--visually\" id=\"b8af0509-a865-4741-88af-ca37724a232e\" type=\"checkbox\" ><label class=\"sk-toggleable__label\" for=\"b8af0509-a865-4741-88af-ca37724a232e\">PCA</label><div class=\"sk-toggleable__content\"><pre>PCA()</pre></div></div></div><div class=\"sk-item\"><div class=\"sk-estimator sk-toggleable\"><input class=\"sk-toggleable__control sk-hidden--visually\" id=\"f271e786-f214-4b5b-ba65-b801d1c3f489\" type=\"checkbox\" ><label class=\"sk-toggleable__label\" for=\"f271e786-f214-4b5b-ba65-b801d1c3f489\">SVC</label><div class=\"sk-toggleable__content\"><pre>SVC()</pre></div></div></div></div></div></div></div>"
      ],
      "text/plain": [
       "Pipeline(steps=[('reduce_dim', PCA()), ('clf', SVC())])"
      ]
     },
     "execution_count": 7,
     "metadata": {},
     "output_type": "execute_result"
    }
   ],
   "source": [
    "from sklearn.pipeline import Pipeline\n",
    "from sklearn.svm import SVC\n",
    "from sklearn.decomposition import PCA\n",
    "\n",
    "#################################################\n",
    "# Für eine HTML-Darstellung in Jupyter-Notebooks:\n",
    "from sklearn import set_config\n",
    "set_config(display='diagram') \n",
    "#################################################\n",
    "\n",
    "estimators = [('reduce_dim', PCA()), ('clf', SVC())]\n",
    "pipe = Pipeline(estimators)\n",
    "pipe"
   ]
  },
  {
   "cell_type": "markdown",
   "metadata": {},
   "source": [
    "oder ohne Vergabe von Bezeichnungen:"
   ]
  },
  {
   "cell_type": "code",
   "execution_count": 8,
   "metadata": {},
   "outputs": [
    {
     "data": {
      "text/html": [
       "<style>div.sk-top-container {color: black;background-color: white;}div.sk-toggleable {background-color: white;}label.sk-toggleable__label {cursor: pointer;display: block;width: 100%;margin-bottom: 0;padding: 0.2em 0.3em;box-sizing: border-box;text-align: center;}div.sk-toggleable__content {max-height: 0;max-width: 0;overflow: hidden;text-align: left;background-color: #f0f8ff;}div.sk-toggleable__content pre {margin: 0.2em;color: black;border-radius: 0.25em;background-color: #f0f8ff;}input.sk-toggleable__control:checked~div.sk-toggleable__content {max-height: 200px;max-width: 100%;overflow: auto;}div.sk-estimator input.sk-toggleable__control:checked~label.sk-toggleable__label {background-color: #d4ebff;}div.sk-label input.sk-toggleable__control:checked~label.sk-toggleable__label {background-color: #d4ebff;}input.sk-hidden--visually {border: 0;clip: rect(1px 1px 1px 1px);clip: rect(1px, 1px, 1px, 1px);height: 1px;margin: -1px;overflow: hidden;padding: 0;position: absolute;width: 1px;}div.sk-estimator {font-family: monospace;background-color: #f0f8ff;margin: 0.25em 0.25em;border: 1px dotted black;border-radius: 0.25em;box-sizing: border-box;}div.sk-estimator:hover {background-color: #d4ebff;}div.sk-parallel-item::after {content: \"\";width: 100%;border-bottom: 1px solid gray;flex-grow: 1;}div.sk-label:hover label.sk-toggleable__label {background-color: #d4ebff;}div.sk-serial::before {content: \"\";position: absolute;border-left: 1px solid gray;box-sizing: border-box;top: 2em;bottom: 0;left: 50%;}div.sk-serial {display: flex;flex-direction: column;align-items: center;background-color: white;}div.sk-item {z-index: 1;}div.sk-parallel {display: flex;align-items: stretch;justify-content: center;background-color: white;}div.sk-parallel-item {display: flex;flex-direction: column;position: relative;background-color: white;}div.sk-parallel-item:first-child::after {align-self: flex-end;width: 50%;}div.sk-parallel-item:last-child::after {align-self: flex-start;width: 50%;}div.sk-parallel-item:only-child::after {width: 0;}div.sk-dashed-wrapped {border: 1px dashed gray;margin: 0.2em;box-sizing: border-box;padding-bottom: 0.1em;background-color: white;position: relative;}div.sk-label label {font-family: monospace;font-weight: bold;background-color: white;display: inline-block;line-height: 1.2em;}div.sk-label-container {position: relative;z-index: 2;text-align: center;}div.sk-container {display: inline-block;position: relative;}</style><div class=\"sk-top-container\"><div class=\"sk-container\"><div class=\"sk-item sk-dashed-wrapped\"><div class=\"sk-label-container\"><div class=\"sk-label sk-toggleable\"><input class=\"sk-toggleable__control sk-hidden--visually\" id=\"5effff97-2465-4b45-af48-d535b80f7f3b\" type=\"checkbox\" ><label class=\"sk-toggleable__label\" for=\"5effff97-2465-4b45-af48-d535b80f7f3b\">Pipeline</label><div class=\"sk-toggleable__content\"><pre>Pipeline(steps=[('pca', PCA()), ('svc', SVC())])</pre></div></div></div><div class=\"sk-serial\"><div class=\"sk-item\"><div class=\"sk-estimator sk-toggleable\"><input class=\"sk-toggleable__control sk-hidden--visually\" id=\"3b67451a-a8b9-4a45-a898-5253e55b7f70\" type=\"checkbox\" ><label class=\"sk-toggleable__label\" for=\"3b67451a-a8b9-4a45-a898-5253e55b7f70\">PCA</label><div class=\"sk-toggleable__content\"><pre>PCA()</pre></div></div></div><div class=\"sk-item\"><div class=\"sk-estimator sk-toggleable\"><input class=\"sk-toggleable__control sk-hidden--visually\" id=\"95a5eda6-89c6-4991-bdae-4daefa2d4cee\" type=\"checkbox\" ><label class=\"sk-toggleable__label\" for=\"95a5eda6-89c6-4991-bdae-4daefa2d4cee\">SVC</label><div class=\"sk-toggleable__content\"><pre>SVC()</pre></div></div></div></div></div></div></div>"
      ],
      "text/plain": [
       "Pipeline(steps=[('pca', PCA()), ('svc', SVC())])"
      ]
     },
     "execution_count": 8,
     "metadata": {},
     "output_type": "execute_result"
    }
   ],
   "source": [
    "from sklearn.pipeline import make_pipeline\n",
    "make_pipeline(PCA(), SVC())"
   ]
  },
  {
   "cell_type": "markdown",
   "metadata": {},
   "source": [
    "Die Pipelines besitzen die gleichen Methoden, wie die Schätz-Objekte selbst (also `model.fit()`, `model.predict()`, ...). Um bei Regressionsproblemene eine nicht-lineare Transformation der Zielwerte vorzunehmen kann anstatt der Pipeline ein [TransformedTargetRegressor](https://scikit-learn.org/stable/modules/generated/sklearn.compose.TransformedTargetRegressor.html#sklearn.compose.TransformedTargetRegressor) verwendet werden.\n",
    "\n",
    "Eine Pipeline kann auch so aufgebaut werden, dass Abhängig vom Merkmalstyp (kategorisch oder numerisch) verschiedene Transformationen stattfinden."
   ]
  },
  {
   "cell_type": "markdown",
   "metadata": {},
   "source": [
    "## Andere wichtige Funktionen und Objekte\n",
    "Scikit-learn bietet noch viele weitere hilfreiche Funktionen und Objekte wie z.B.:\n",
    "- `sklearn.model_selection.train_test_split(X[, y, ...], test_size=0.25)`: Gibt eine Aufteilung der Daten in Trainings- und Testdatensatz zurück.\n",
    "- `sklearn.model_selection.GridSearchCV(estimator, param_grid)`: Objekt um eine Rastersuche über ein Schätz-Objekt mit verschiedenen Hyperparametern durchzuführen. Dabei kann `estimator` auch eine Pipeline sein.\n",
    "- `sklearn.model_selection.cross_validate(estimator, X, y)`: Kreuzvalidation (cross validation) des `estimators` für die `X` und `y` Daten. Der Score für jeden Lauf der Kreuzvalidation wird zurückgegeben. Standardmäßig wird eine 5-fache Kreuzvalidation durchgeführt."
   ]
  }
 ],
 "metadata": {
  "kernelspec": {
   "display_name": "Python 3 (ipykernel)",
   "language": "python",
   "name": "python3"
  },
  "language_info": {
   "codemirror_mode": {
    "name": "ipython",
    "version": 3
   },
   "file_extension": ".py",
   "mimetype": "text/x-python",
   "name": "python",
   "nbconvert_exporter": "python",
   "pygments_lexer": "ipython3",
   "version": "3.9.7"
  }
 },
 "nbformat": 4,
 "nbformat_minor": 4
}
