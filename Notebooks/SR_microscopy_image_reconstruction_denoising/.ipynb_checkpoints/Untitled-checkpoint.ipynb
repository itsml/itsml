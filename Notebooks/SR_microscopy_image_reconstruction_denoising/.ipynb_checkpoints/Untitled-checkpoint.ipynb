{
 "cells": [
  {
   "cell_type": "code",
   "execution_count": null,
   "id": "indoor-forge",
   "metadata": {},
   "outputs": [],
   "source": [
    "\n",
    "%%bash\n",
    "ipython nbconvert --to latex --template citations.tplx Super-Resolution-AME-TrainingModule.ipynb\n",
    "pdflatex Super-Resolution-AME-TrainingModule.tex\n",
    "bibtex Super-Resolution-AME-TrainingModule\n",
    "pdflatex Super-Resolution-AME-TrainingModule.tex"
   ]
  }
 ],
 "metadata": {
  "kernelspec": {
   "display_name": "Python 3",
   "language": "python",
   "name": "python3"
  },
  "language_info": {
   "codemirror_mode": {
    "name": "ipython",
    "version": 3
   },
   "file_extension": ".py",
   "mimetype": "text/x-python",
   "name": "python",
   "nbconvert_exporter": "python",
   "pygments_lexer": "ipython3",
   "version": "3.7.4"
  }
 },
 "nbformat": 4,
 "nbformat_minor": 5
}
